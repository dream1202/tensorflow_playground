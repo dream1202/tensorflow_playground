{
 "cells": [
  {
   "cell_type": "code",
   "execution_count": 1,
   "metadata": {
    "collapsed": false
   },
   "outputs": [
    {
     "name": "stdout",
     "output_type": "stream",
     "text": [
      "Extracting MNIST_data_expand/train-images-idx3-ubyte.gz\n",
      "Extracting MNIST_data_expand/train-labels-idx1-ubyte.gz\n",
      "Extracting MNIST_data_expand/t10k-images-idx3-ubyte.gz\n",
      "Extracting MNIST_data_expand/t10k-labels-idx1-ubyte.gz\n"
     ]
    }
   ],
   "source": [
    "import tensorflow as tf\n",
    "import numpy as np\n",
    "import math\n",
    "from tqdm import tqdm\n",
    "import pickle\n",
    "\n",
    "# Import Expanded MINST data\n",
    "from tensorflow.examples.tutorials.mnist import input_data\n",
    "mnist = input_data.read_data_sets('MNIST_data_expand', one_hot=True)\n",
    "\n",
    "models_path = '/Users/Winston/GitHub/tensorflow_playground/tensorflow_models/MNIST_1FCDrop_Softmax_dataset'\n",
    "\n",
    "# Parameters\n",
    "learning_rate = 0.1\n",
    "training_epochs = 10\n",
    "batch_size = 10\n",
    "display_step = 1\n",
    "log_step = 100\n",
    "\n",
    "# Network Parameters\n",
    "n_input = 784  # MNIST data input (img shape: 28*28)\n",
    "n_output = 10 # MNIST total classes (0-9 digits)\n",
    "n_hidden_1 = 100 # 1st layer number of features\n",
    "\n",
    "# TF Graph Input\n",
    "# mnist data image of shape 28*28=784\n",
    "x = tf.placeholder(tf.float32, [None, 784], name='InputData')\n",
    "# 0-9 digits recognition => 10 classes\n",
    "y_ = tf.placeholder(tf.float32, [None, 10], name='LabelData')\n",
    "keep_prob = tf.placeholder(tf.float32)\n",
    "\n",
    "# Helper functions\n",
    "def weight_variable(shape):\n",
    "    initial = tf.truncated_normal(shape, stddev=0.1)\n",
    "    return tf.Variable(initial)\n",
    "\n",
    "def bias_variable(shape):\n",
    "    initial = tf.constant(0.1, shape=shape)\n",
    "    return tf.Variable(initial)\n",
    "\n",
    "# Store layers weight & bias\n",
    "weights = {\n",
    "    'W1': weight_variable([n_input, n_hidden_1]),\n",
    "    'W2': weight_variable([n_hidden_1, n_output])\n",
    "}\n",
    "biases = {\n",
    "    'b1': bias_variable([n_hidden_1]),\n",
    "    'b2': bias_variable([n_output])    \n",
    "}\n",
    "\n",
    "\n",
    "# Create model\n",
    "def build_model(x, weights, biases):\n",
    "    # Hidden layer with ReLU activation\n",
    "    layer_1 = tf.add(tf.matmul(x, weights['W1']), biases['b1'])\n",
    "    layer_1 = tf.nn.relu(layer_1)\n",
    "    \n",
    "    layer_1_drop = tf.nn.dropout(layer_1, keep_prob)\n",
    "    # Output layer\n",
    "    out_layer = tf.add(tf.matmul(layer_1_drop, weights['W2']), biases['b2'])\n",
    "    return out_layer\n",
    "\n",
    "\n",
    "# Encapsulating all ops into scopes, making Tensorboard's Graph visualization more convenient\n",
    "with tf.name_scope('Model'):\n",
    "    # Build model\n",
    "    pred = build_model(x, weights, biases)\n",
    "\n",
    "with tf.name_scope('Loss'):\n",
    "    # Softmax Cross entropy (cost function)\n",
    "    loss = tf.reduce_mean(tf.nn.softmax_cross_entropy_with_logits(pred, y_))\n",
    "    # NOTE:\n",
    "    # Since out_layer has NOT invoked softmax, leverage TF optimized function \n",
    "    # \"softmax_cross_entropy_with_logits\" to calculate cost\n",
    "\n",
    "with tf.name_scope('SGD'):\n",
    "    # Gradient Descent\n",
    "    optimizer = tf.train.GradientDescentOptimizer(learning_rate)\n",
    "    train_step = optimizer.minimize(loss)    \n",
    "    \n",
    "with tf.name_scope('Accuracy'):\n",
    "    # Accuracy\n",
    "    accuracy = tf.equal(tf.argmax(pred, 1), tf.argmax(y_, 1))\n",
    "    accuracy = tf.reduce_mean(tf.cast(accuracy, tf.float32))\n"
   ]
  },
  {
   "cell_type": "code",
   "execution_count": 2,
   "metadata": {
    "collapsed": false
   },
   "outputs": [
    {
     "name": "stderr",
     "output_type": "stream",
     "text": [
      " 10%|#         | 1/10 [01:14<11:10, 74.54s/it]"
     ]
    },
    {
     "name": "stdout",
     "output_type": "stream",
     "text": [
      "Epoch: 1, cost= 0.380745875\n"
     ]
    },
    {
     "name": "stderr",
     "output_type": "stream",
     "text": [
      "\r",
      " 20%|##        | 2/10 [02:29<09:58, 74.81s/it]"
     ]
    },
    {
     "name": "stdout",
     "output_type": "stream",
     "text": [
      "Epoch: 2, cost= 0.293346922\n"
     ]
    },
    {
     "name": "stderr",
     "output_type": "stream",
     "text": [
      "\r",
      " 30%|###       | 3/10 [03:41<08:37, 73.93s/it]"
     ]
    },
    {
     "name": "stdout",
     "output_type": "stream",
     "text": [
      "Epoch: 3, cost= 0.273887351\n"
     ]
    },
    {
     "name": "stderr",
     "output_type": "stream",
     "text": [
      "\r",
      " 40%|####      | 4/10 [04:55<07:22, 73.78s/it]"
     ]
    },
    {
     "name": "stdout",
     "output_type": "stream",
     "text": [
      "Epoch: 4, cost= 0.264936825\n"
     ]
    },
    {
     "name": "stderr",
     "output_type": "stream",
     "text": [
      "\r",
      " 50%|#####     | 5/10 [06:11<06:13, 74.64s/it]"
     ]
    },
    {
     "name": "stdout",
     "output_type": "stream",
     "text": [
      "Epoch: 5, cost= 0.258323020\n"
     ]
    },
    {
     "name": "stderr",
     "output_type": "stream",
     "text": [
      "\r",
      " 60%|######    | 6/10 [07:26<04:58, 74.55s/it]"
     ]
    },
    {
     "name": "stdout",
     "output_type": "stream",
     "text": [
      "Epoch: 6, cost= 0.253618921\n"
     ]
    },
    {
     "name": "stderr",
     "output_type": "stream",
     "text": [
      "\r",
      " 70%|#######   | 7/10 [08:36<03:39, 73.26s/it]"
     ]
    },
    {
     "name": "stdout",
     "output_type": "stream",
     "text": [
      "Epoch: 7, cost= 0.253070389\n"
     ]
    },
    {
     "name": "stderr",
     "output_type": "stream",
     "text": [
      "\r",
      " 80%|########  | 8/10 [09:49<02:26, 73.09s/it]"
     ]
    },
    {
     "name": "stdout",
     "output_type": "stream",
     "text": [
      "Epoch: 8, cost= 0.248771096\n"
     ]
    },
    {
     "name": "stderr",
     "output_type": "stream",
     "text": [
      "\r",
      " 90%|######### | 9/10 [11:05<01:14, 74.15s/it]"
     ]
    },
    {
     "name": "stdout",
     "output_type": "stream",
     "text": [
      "Epoch: 9, cost= 0.242677929\n"
     ]
    },
    {
     "name": "stderr",
     "output_type": "stream",
     "text": [
      "\r",
      "100%|##########| 10/10 [12:18<00:00, 73.82s/it]"
     ]
    },
    {
     "name": "stdout",
     "output_type": "stream",
     "text": [
      "Epoch: 10, cost= 0.245105132\n",
      "Optimization Finished!\n"
     ]
    },
    {
     "name": "stderr",
     "output_type": "stream",
     "text": [
      "\n"
     ]
    },
    {
     "name": "stdout",
     "output_type": "stream",
     "text": [
      "Model save in file: /Users/Winston/GitHub/tensorflow_playground/tensorflow_models/MNIST_1FCDrop_Softmax_dataset/model-10epochs.ckpt\n",
      "Test Accuracy: 0.9772\n"
     ]
    }
   ],
   "source": [
    "## Training\n",
    "\n",
    "# Initializing the variables\n",
    "init = tf.initialize_all_variables()\n",
    "\n",
    "saver = tf.train.Saver()\n",
    "\n",
    "train_cost_history, validation_cost_history, validation_accuracy_history = ([] for i in range(3))\n",
    "\n",
    "with tf.Session() as sess:\n",
    "    sess.run(init)\n",
    "    log_avg_costs = list()\n",
    "    # Training cycle\n",
    "    for epoch in tqdm(range(training_epochs), ascii=True): \n",
    "        epoch_avg_cost = 0.\n",
    "        total_batch = int(mnist.train.num_examples / batch_size)\n",
    "        for i in range(total_batch):\n",
    "            batch_xs, batch_ys = mnist.train.next_batch(batch_size)\n",
    "            train_cost, _ = sess.run([loss, train_step], feed_dict={x: batch_xs, y_: batch_ys, keep_prob: 0.5})\n",
    "            epoch_avg_cost += train_cost / total_batch\n",
    "            log_avg_costs.append(train_cost)\n",
    "            if (i+1) % log_step == 0:\n",
    "                train_cost_history.append(np.mean(log_avg_costs))\n",
    "                log_avg_costs[:] = []\n",
    "                val_cost, val_accuracy = sess.run([loss, accuracy], feed_dict={x: mnist.validation.images, y_: mnist.validation.labels, keep_prob: 1.0})\n",
    "                validation_cost_history.append(val_cost)\n",
    "                validation_accuracy_history.append(val_accuracy)\n",
    "        \n",
    "        # Display training cost & validation accuracy per epoch step\n",
    "        if (epoch+1) % display_step == 0:\n",
    "            print(\"Epoch: {}, cost= {:.9f}\".format(epoch+1, epoch_avg_cost))\n",
    "\n",
    "    print(\"Optimization Finished!\")  \n",
    "    save_path = saver.save(sess, models_path + '/model-10epochs.ckpt')\n",
    "    print(\"Model save in file: %s\" % save_path)\n",
    "    with open(models_path + '/history-10epochs.pickle', \"wb\") as f:\n",
    "        pickle.dump((train_cost_history, validation_cost_history, validation_accuracy_history), f)\n",
    "    \n",
    "    # Test model\n",
    "    # Calculate accuracy\n",
    "    print(\"Test Accuracy:\", sess.run(accuracy, feed_dict={x: mnist.test.images, y_: mnist.test.labels, keep_prob: 1.0}))"
   ]
  },
  {
   "cell_type": "code",
   "execution_count": 2,
   "metadata": {
    "collapsed": false
   },
   "outputs": [
    {
     "name": "stdout",
     "output_type": "stream",
     "text": [
      "Model restored.\n",
      "Test Accuracy: 0.9776\n"
     ]
    }
   ],
   "source": [
    "# Restore Model to test Only\n",
    "# Need to go through cell [1] first\n",
    "train_cost_history, validation_cost_history, validation_accuracy_history = ([] for i in range(3))\n",
    "\n",
    "saver = tf.train.Saver()\n",
    "with tf.Session() as sess:\n",
    "    saver.restore(sess, models_path + '/model-30epochs.ckpt')\n",
    "    print(\"Model restored.\")\n",
    "    print(\"Test Accuracy:\", sess.run(accuracy, feed_dict={x: mnist.test.images, y_: mnist.test.labels, keep_prob: 1.0}))\n",
    "    with open(models_path + '/history-30epochs.pickle', \"rb\") as f:\n",
    "        train_cost_history, validation_cost_history, validation_accuracy_history = pickle.load(f)    "
   ]
  },
  {
   "cell_type": "code",
   "execution_count": 2,
   "metadata": {
    "collapsed": false
   },
   "outputs": [
    {
     "name": "stderr",
     "output_type": "stream",
     "text": [
      "\r",
      "  0%|          | 0/10 [00:00<?, ?it/s]"
     ]
    },
    {
     "name": "stdout",
     "output_type": "stream",
     "text": [
      "Model and history restored.\n"
     ]
    },
    {
     "name": "stderr",
     "output_type": "stream",
     "text": [
      "\r",
      " 10%|#         | 1/10 [01:10<10:30, 70.05s/it]"
     ]
    },
    {
     "name": "stdout",
     "output_type": "stream",
     "text": [
      "Epoch: 1, cost= 0.229413277\n"
     ]
    },
    {
     "name": "stderr",
     "output_type": "stream",
     "text": [
      "\r",
      " 20%|##        | 2/10 [02:19<09:19, 69.88s/it]"
     ]
    },
    {
     "name": "stdout",
     "output_type": "stream",
     "text": [
      "Epoch: 2, cost= 0.230504340\n"
     ]
    },
    {
     "name": "stderr",
     "output_type": "stream",
     "text": [
      "\r",
      " 30%|###       | 3/10 [03:28<08:07, 69.62s/it]"
     ]
    },
    {
     "name": "stdout",
     "output_type": "stream",
     "text": [
      "Epoch: 3, cost= 0.231033500\n"
     ]
    },
    {
     "name": "stderr",
     "output_type": "stream",
     "text": [
      "\r",
      " 40%|####      | 4/10 [04:37<06:56, 69.34s/it]"
     ]
    },
    {
     "name": "stdout",
     "output_type": "stream",
     "text": [
      "Epoch: 4, cost= 0.231605207\n"
     ]
    },
    {
     "name": "stderr",
     "output_type": "stream",
     "text": [
      "\r",
      " 50%|#####     | 5/10 [05:45<05:45, 69.03s/it]"
     ]
    },
    {
     "name": "stdout",
     "output_type": "stream",
     "text": [
      "Epoch: 5, cost= 0.230189713\n"
     ]
    },
    {
     "name": "stderr",
     "output_type": "stream",
     "text": [
      "\r",
      " 60%|######    | 6/10 [06:54<04:36, 69.00s/it]"
     ]
    },
    {
     "name": "stdout",
     "output_type": "stream",
     "text": [
      "Epoch: 6, cost= 0.229355980\n"
     ]
    },
    {
     "name": "stderr",
     "output_type": "stream",
     "text": [
      "\r",
      " 70%|#######   | 7/10 [08:03<03:26, 68.89s/it]"
     ]
    },
    {
     "name": "stdout",
     "output_type": "stream",
     "text": [
      "Epoch: 7, cost= 0.230232252\n"
     ]
    },
    {
     "name": "stderr",
     "output_type": "stream",
     "text": [
      "\r",
      " 80%|########  | 8/10 [09:11<02:17, 68.82s/it]"
     ]
    },
    {
     "name": "stdout",
     "output_type": "stream",
     "text": [
      "Epoch: 8, cost= 0.228260962\n"
     ]
    },
    {
     "name": "stderr",
     "output_type": "stream",
     "text": [
      "\r",
      " 90%|######### | 9/10 [10:20<01:08, 68.65s/it]"
     ]
    },
    {
     "name": "stdout",
     "output_type": "stream",
     "text": [
      "Epoch: 9, cost= 0.226655778\n"
     ]
    },
    {
     "name": "stderr",
     "output_type": "stream",
     "text": [
      "\r",
      "100%|##########| 10/10 [11:28<00:00, 68.60s/it]"
     ]
    },
    {
     "name": "stdout",
     "output_type": "stream",
     "text": [
      "Epoch: 10, cost= 0.227654310\n",
      "Optimization Finished!\n"
     ]
    },
    {
     "name": "stderr",
     "output_type": "stream",
     "text": [
      "\n"
     ]
    },
    {
     "name": "stdout",
     "output_type": "stream",
     "text": [
      "Model save in file: /Users/Winston/GitHub/tensorflow_playground/tensorflow_models/MNIST_1FCDrop_Softmax_dataset/model-30epochs.ckpt\n",
      "Test Accuracy: 0.9776\n"
     ]
    }
   ],
   "source": [
    "# Restore Model to further train\n",
    "# Need to go through cell [1] first\n",
    "train_cost_history, validation_cost_history, validation_accuracy_history = ([] for i in range(3))\n",
    "\n",
    "saver = tf.train.Saver()\n",
    "with tf.Session() as sess:\n",
    "    saver.restore(sess, models_path + '/model-20epochs.ckpt')\n",
    "    with open(models_path + '/history-20epochs.pickle', \"rb\") as f:\n",
    "        train_cost_history, validation_cost_history, validation_accuracy_history = pickle.load(f)\n",
    "    print(\"Model and history restored.\")    \n",
    "\n",
    "    log_avg_costs = list()\n",
    "    # Training cycle\n",
    "    for epoch in tqdm(range(training_epochs), ascii=True): \n",
    "        epoch_avg_cost = 0.\n",
    "        total_batch = int(mnist.train.num_examples / batch_size)\n",
    "        for i in range(total_batch):\n",
    "            batch_xs, batch_ys = mnist.train.next_batch(batch_size)\n",
    "            train_cost, _ = sess.run([loss, train_step], feed_dict={x: batch_xs, y_: batch_ys, keep_prob: 0.5})\n",
    "            epoch_avg_cost += train_cost / total_batch\n",
    "            log_avg_costs.append(train_cost)\n",
    "            if (i+1) % log_step == 0:\n",
    "                train_cost_history.append(np.mean(log_avg_costs))\n",
    "                log_avg_costs[:] = []\n",
    "                val_cost, val_accuracy = sess.run([loss, accuracy], feed_dict={x: mnist.validation.images, y_: mnist.validation.labels, keep_prob: 1.0})\n",
    "                validation_cost_history.append(val_cost)\n",
    "                validation_accuracy_history.append(val_accuracy)\n",
    "        \n",
    "        # Display training cost & validation accuracy per epoch step\n",
    "        if (epoch+1) % display_step == 0:\n",
    "            print(\"Epoch: {}, cost= {:.9f}\".format(epoch+1, epoch_avg_cost))\n",
    "\n",
    "    print(\"Optimization Finished!\")  \n",
    "    save_path = saver.save(sess, models_path + '/model-30epochs.ckpt')\n",
    "    print(\"Model save in file: %s\" % save_path)\n",
    "    with open(models_path + '/history-30epochs.pickle', \"wb\") as f:\n",
    "        pickle.dump((train_cost_history, validation_cost_history, validation_accuracy_history), f)\n",
    "        \n",
    "    # Test model\n",
    "    # just a workaround to reduce memory first\n",
    "    mnist_test = mnist.test\n",
    "    mnist = None\n",
    "    # Calculate accuracy\n",
    "    print(\"Test Accuracy:\", sess.run(accuracy, feed_dict={x: mnist_test.images, y_: mnist_test.labels, keep_prob: 1.0}))    "
   ]
  },
  {
   "cell_type": "code",
   "execution_count": 3,
   "metadata": {
    "collapsed": false
   },
   "outputs": [
    {
     "data": {
      "text/plain": [
       "<matplotlib.axes._subplots.AxesSubplot at 0x111602898>"
      ]
     },
     "execution_count": 3,
     "metadata": {},
     "output_type": "execute_result"
    },
    {
     "data": {
      "image/png": "[encoded data removed]",
      "text/plain": [
       "<matplotlib.figure.Figure at 0x10e33a160>"
      ]
     },
     "metadata": {},
     "output_type": "display_data"
    }
   ],
   "source": [
    "## Plot the learning curves\n",
    "\n",
    "%matplotlib inline\n",
    "import matplotlib.pyplot as plt\n",
    "import matplotlib.gridspec as gridspec\n",
    "\n",
    "fig = plt.figure() \n",
    "# create figure window\n",
    "gs = gridspec.GridSpec(2, 1)\n",
    "# Creates grid 'gs' of 2 rows and 1 columns \n",
    "ax = plt.subplot(gs[0, 0])\n",
    "# Adds subplot 'ax' in grid 'gs' at position [0,0]\n",
    "ax.set_ylabel('Cost') \n",
    "ax.set_xlabel('Iterations') \n",
    "ax.plot(train_cost_history, 'b-')\n",
    "ax.plot(validation_cost_history, 'r-')\n",
    "ax.set_ylim([0, 0.5])\n",
    "fig.add_subplot(ax) \n",
    "\n",
    "bx = plt.subplot(gs[1, 0])\n",
    "bx.set_ylabel('Accuracy') \n",
    "bx.plot(validation_accuracy_history, 'g-')\n",
    "bx.set_ylim([0.9, 1.0])\n",
    "fig.add_subplot(bx)"
   ]
  },
  {
   "cell_type": "code",
   "execution_count": 4,
   "metadata": {
    "collapsed": false,
    "scrolled": false
   },
   "outputs": [
    {
     "data": {
      "text/plain": [
       "<matplotlib.text.Text at 0x11198d908>"
      ]
     },
     "execution_count": 4,
     "metadata": {},
     "output_type": "execute_result"
    },
    {
     "data": {
      "image/png": "[encoded data removed]",
      "text/plain": [
       "<matplotlib.figure.Figure at 0x1114d7390>"
      ]
     },
     "metadata": {},
     "output_type": "display_data"
    },
    {
     "data": {
      "image/png": "[encoded data removed]",
      "text/plain": [
       "<matplotlib.figure.Figure at 0x111959c18>"
      ]
     },
     "metadata": {},
     "output_type": "display_data"
    }
   ],
   "source": [
    "## Plot the learning curves\n",
    "\n",
    "%matplotlib inline\n",
    "import matplotlib.pyplot as plt\n",
    "import pylab\n",
    "\n",
    "plt.figure(1)\n",
    "plt.plot(train_cost_history,'b-')\n",
    "plt.plot(validation_cost_history, 'r-')\n",
    "plt.ylabel('Cost')\n",
    "plt.xlabel('Iterations')\n",
    "\n",
    "\n",
    "plt.figure(2)\n",
    "plt.plot(validation_accuracy_history, 'g-')\n",
    "plt.ylabel('Accuracy')\n",
    "plt.xlabel('Iterations')\n"
   ]
  },
  {
   "cell_type": "code",
   "execution_count": 5,
   "metadata": {
    "collapsed": false
   },
   "outputs": [
    {
     "name": "stdout",
     "output_type": "stream",
     "text": [
      "0.9728\n"
     ]
    }
   ],
   "source": [
    "print(validation_accuracy_history[-1])"
   ]
  },
  {
   "cell_type": "code",
   "execution_count": null,
   "metadata": {
    "collapsed": true
   },
   "outputs": [],
   "source": []
  }
 ],
 "metadata": {
  "kernelspec": {
   "display_name": "Python 3",
   "language": "python",
   "name": "python3"
  },
  "language_info": {
   "codemirror_mode": {
    "name": "ipython",
    "version": 3
   },
   "file_extension": ".py",
   "mimetype": "text/x-python",
   "name": "python",
   "nbconvert_exporter": "python",
   "pygments_lexer": "ipython3",
   "version": "3.5.2"
  }
 },
 "nbformat": 4,
 "nbformat_minor": 0
}
