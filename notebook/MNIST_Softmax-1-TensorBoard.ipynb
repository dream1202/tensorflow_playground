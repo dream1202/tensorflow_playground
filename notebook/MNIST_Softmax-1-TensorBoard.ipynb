{
 "cells": [
  {
   "cell_type": "code",
   "execution_count": 1,
   "metadata": {
    "collapsed": false
   },
   "outputs": [
    {
     "name": "stdout",
     "output_type": "stream",
     "text": [
      "Extracting MNIST_data/train-images-idx3-ubyte.gz\n",
      "Extracting MNIST_data/train-labels-idx1-ubyte.gz\n",
      "Extracting MNIST_data/t10k-images-idx3-ubyte.gz\n",
      "Extracting MNIST_data/t10k-labels-idx1-ubyte.gz\n"
     ]
    }
   ],
   "source": [
    "import tensorflow as tf\n",
    "import numpy as np\n",
    "import math\n",
    "from tqdm import tqdm\n",
    "import pickle\n",
    "\n",
    "# Import MINST data\n",
    "from tensorflow.examples.tutorials.mnist import input_data\n",
    "mnist = input_data.read_data_sets('MNIST_data', one_hot=True)\n",
    "\n",
    "models_path = '/Users/Winston/GitHub/tensorflow_playground/tensorflow_models/MNIST_Softmax_1-TB'\n",
    "logs_path = '/Users/Winston/GitHub/tensorflow_playground/tensorflow_logs/MNIST_Softmax_1-TB'\n",
    "\n",
    "\n",
    "# Parameters\n",
    "learning_rate = 0.1\n",
    "training_epochs = 10\n",
    "batch_size = 10\n",
    "display_step = 1\n",
    "log_step = 100\n",
    "\n",
    "# Network Parameters\n",
    "n_input = 784  # MNIST data input (img shape: 28*28)\n",
    "n_output = 10 # MNIST total classes (0-9 digits)\n",
    "\n",
    "# TF Graph Input\n",
    "# mnist data image of shape 28*28=784\n",
    "x = tf.placeholder(tf.float32, [None, 784], name='InputData')\n",
    "# 0-9 digits recognition => 10 classes\n",
    "y_ = tf.placeholder(tf.float32, [None, 10], name='LabelData')\n",
    "\n",
    "# Helper functions\n",
    "def weight_variable(shape):\n",
    "    initial = tf.truncated_normal(shape, stddev=0.1)\n",
    "    return tf.Variable(initial)\n",
    "\n",
    "def bias_variable(shape):\n",
    "    initial = tf.constant(0.1, shape=shape)\n",
    "    return tf.Variable(initial)\n",
    "\n",
    "# Store layers weight & bias\n",
    "weights = {\n",
    "    'W': weight_variable([n_input, n_output])\n",
    "}\n",
    "biases = {\n",
    "    'b': bias_variable([n_output])\n",
    "}\n",
    "\n",
    "\n",
    "# Create model\n",
    "def build_model(x, weights, biases):\n",
    "    out_layer = tf.add(tf.matmul(x, weights['W']), biases['b'])\n",
    "    return out_layer\n",
    "\n",
    "\n",
    "# Encapsulating all ops into scopes, making Tensorboard's Graph visualization more convenient\n",
    "with tf.name_scope('Model'):\n",
    "    # Build model\n",
    "    pred = build_model(x, weights, biases)   \n",
    "\n",
    "with tf.name_scope('Loss'):\n",
    "    # Softmax Cross entropy (cost function)\n",
    "    loss = tf.reduce_mean(tf.nn.softmax_cross_entropy_with_logits(pred, y_))\n",
    "    tf.scalar_summary('loss', loss)    \n",
    "    # NOTE:\n",
    "    # Since out_layer has NOT invoked softmax, leverage TF optimized function \n",
    "    # \"softmax_cross_entropy_with_logits\" to calculate cost\n",
    "\n",
    "with tf.name_scope('Avg_Loss'):\n",
    "    avg_loss_pl = tf.placeholder(tf.float32)\n",
    "    avg_loss = tf.scalar_summary('avg_loss', avg_loss_pl)\n",
    "    \n",
    "with tf.name_scope('SGD'):\n",
    "    # Gradient Descent\n",
    "    optimizer = tf.train.GradientDescentOptimizer(learning_rate)\n",
    "    train_step = optimizer.minimize(loss)    \n",
    "    \n",
    "with tf.name_scope('Accuracy'):\n",
    "    # Accuracy\n",
    "    accuracy = tf.equal(tf.argmax(pred, 1), tf.argmax(y_, 1))\n",
    "    accuracy = tf.reduce_mean(tf.cast(accuracy, tf.float32))\n",
    "    tf.scalar_summary('accuracy', accuracy)\n",
    "    \n",
    "\n",
    "# Merge all summaries into a single op    \n",
    "merged_summary_op = tf.merge_all_summaries()"
   ]
  },
  {
   "cell_type": "code",
   "execution_count": 2,
   "metadata": {
    "collapsed": false
   },
   "outputs": [
    {
     "name": "stderr",
     "output_type": "stream",
     "text": [
      " 10%|#         | 1/10 [00:07<01:07,  7.47s/it]"
     ]
    },
    {
     "name": "stdout",
     "output_type": "stream",
     "text": [
      "Epoch: 1, cost= 0.363285965\n"
     ]
    },
    {
     "name": "stderr",
     "output_type": "stream",
     "text": [
      "\r",
      " 20%|##        | 2/10 [00:14<00:59,  7.45s/it]"
     ]
    },
    {
     "name": "stdout",
     "output_type": "stream",
     "text": [
      "Epoch: 2, cost= 0.309176345\n"
     ]
    },
    {
     "name": "stderr",
     "output_type": "stream",
     "text": [
      "\r",
      " 30%|###       | 3/10 [00:21<00:51,  7.29s/it]"
     ]
    },
    {
     "name": "stdout",
     "output_type": "stream",
     "text": [
      "Epoch: 3, cost= 0.295471129\n"
     ]
    },
    {
     "name": "stderr",
     "output_type": "stream",
     "text": [
      "\r",
      " 40%|####      | 4/10 [00:28<00:43,  7.25s/it]"
     ]
    },
    {
     "name": "stdout",
     "output_type": "stream",
     "text": [
      "Epoch: 4, cost= 0.288691826\n"
     ]
    },
    {
     "name": "stderr",
     "output_type": "stream",
     "text": [
      "\r",
      " 50%|#####     | 5/10 [00:35<00:35,  7.13s/it]"
     ]
    },
    {
     "name": "stdout",
     "output_type": "stream",
     "text": [
      "Epoch: 5, cost= 0.283353125\n"
     ]
    },
    {
     "name": "stderr",
     "output_type": "stream",
     "text": [
      "\r",
      " 60%|######    | 6/10 [00:42<00:28,  7.11s/it]"
     ]
    },
    {
     "name": "stdout",
     "output_type": "stream",
     "text": [
      "Epoch: 6, cost= 0.280770755\n"
     ]
    },
    {
     "name": "stderr",
     "output_type": "stream",
     "text": [
      "\r",
      " 70%|#######   | 7/10 [00:50<00:21,  7.17s/it]"
     ]
    },
    {
     "name": "stdout",
     "output_type": "stream",
     "text": [
      "Epoch: 7, cost= 0.277778735\n"
     ]
    },
    {
     "name": "stderr",
     "output_type": "stream",
     "text": [
      "\r",
      " 80%|########  | 8/10 [00:57<00:14,  7.22s/it]"
     ]
    },
    {
     "name": "stdout",
     "output_type": "stream",
     "text": [
      "Epoch: 8, cost= 0.275505981\n"
     ]
    },
    {
     "name": "stderr",
     "output_type": "stream",
     "text": [
      "\r",
      " 90%|######### | 9/10 [01:04<00:07,  7.17s/it]"
     ]
    },
    {
     "name": "stdout",
     "output_type": "stream",
     "text": [
      "Epoch: 9, cost= 0.272785152\n"
     ]
    },
    {
     "name": "stderr",
     "output_type": "stream",
     "text": [
      "\r",
      "100%|##########| 10/10 [01:12<00:00,  7.40s/it]"
     ]
    },
    {
     "name": "stdout",
     "output_type": "stream",
     "text": [
      "Epoch: 10, cost= 0.270944406\n",
      "Optimization Finished!\n",
      "Model save in file: /Users/Winston/GitHub/tensorflow_playground/tensorflow_models/MNIST_Softmax_1-TB/model.ckpt\n"
     ]
    },
    {
     "name": "stderr",
     "output_type": "stream",
     "text": [
      "\n"
     ]
    },
    {
     "name": "stdout",
     "output_type": "stream",
     "text": [
      "Test Accuracy: 0.9223999977111816\n"
     ]
    }
   ],
   "source": [
    "## Training\n",
    "\n",
    "# Initializing the variables\n",
    "init = tf.initialize_all_variables()\n",
    "\n",
    "saver = tf.train.Saver()\n",
    "\n",
    "train_cost_history, validation_cost_history, validation_accuracy_history = ([] for i in range(3))\n",
    "\n",
    "with tf.Session() as sess:\n",
    "    sess.run(init)\n",
    "    log_avg_costs = list()\n",
    "    train_writer = tf.train.SummaryWriter(logs_path + '/train', sess.graph)\n",
    "    validation_writer = tf.train.SummaryWriter(logs_path + '/validation', sess.graph) \n",
    "    test_writer = tf.train.SummaryWriter(logs_path + '/test', sess.graph)     \n",
    "    # Training cycle\n",
    "    for epoch in tqdm(range(training_epochs), ascii=True): \n",
    "        epoch_avg_cost = 0.\n",
    "        total_batch = int(mnist.train.num_examples / batch_size)\n",
    "        for i in range(total_batch):\n",
    "            batch_xs, batch_ys = mnist.train.next_batch(batch_size)\n",
    "            train_cost, _ = sess.run([loss, train_step], feed_dict={x: batch_xs, y_: batch_ys})\n",
    "            epoch_avg_cost += train_cost / total_batch\n",
    "            log_avg_costs.append(train_cost)\n",
    "            if (i+1) % log_step == 0:\n",
    "                avg_training_cost = np.mean(log_avg_costs)\n",
    "                train_cost_history.append(avg_training_cost)\n",
    "                log_avg_costs[:] = []\n",
    "                summary, _ = sess.run([merged_summary_op, avg_loss], feed_dict={x: batch_xs, y_: batch_ys, avg_loss_pl: avg_training_cost})\n",
    "                train_writer.add_summary(summary, epoch * total_batch + i)\n",
    "                val_cost, val_accuracy = sess.run([loss, accuracy], feed_dict={x: mnist.validation.images, y_: mnist.validation.labels})\n",
    "                summary, _ = sess.run([merged_summary_op, avg_loss], feed_dict={x: mnist.validation.images, y_: mnist.validation.labels, avg_loss_pl: val_cost})\n",
    "                validation_writer.add_summary(summary, epoch * total_batch + i)\n",
    "                validation_cost_history.append(val_cost)\n",
    "                validation_accuracy_history.append(val_accuracy)\n",
    "        \n",
    "        # Display training cost & validation accuracy per epoch step\n",
    "        if (epoch+1) % display_step == 0:\n",
    "            print(\"Epoch: {}, cost= {:.9f}\".format(epoch+1, epoch_avg_cost))\n",
    "\n",
    "    print(\"Optimization Finished!\")  \n",
    "    save_path = saver.save(sess, models_path + '/model.ckpt')\n",
    "    print(\"Model save in file: %s\" % save_path)\n",
    "    with open(models_path + '/history.pickle', \"wb\") as f:\n",
    "        pickle.dump((train_cost_history, validation_cost_history, validation_accuracy_history), f)\n",
    "    train_writer.close()\n",
    "    validation_writer.close()\n",
    "    \n",
    "    # Test model\n",
    "    # Calculate accuracy\n",
    "    summary, test_accuracy = sess.run([merged_summary_op, accuracy], feed_dict={x: mnist.test.images, y_: mnist.test.labels, avg_loss_pl: 0.})\n",
    "    test_writer.add_summary(summary)\n",
    "    test_writer.close()\n",
    "    print(\"Test Accuracy: {}\".format(test_accuracy))    "
   ]
  },
  {
   "cell_type": "code",
   "execution_count": 3,
   "metadata": {
    "collapsed": false
   },
   "outputs": [
    {
     "name": "stdout",
     "output_type": "stream",
     "text": [
      "Model restored.\n",
      "Test Accuracy: 0.9224\n"
     ]
    }
   ],
   "source": [
    "# Restore Model when needed\n",
    "train_cost_history, validation_cost_history, validation_accuracy_history = ([] for i in range(3))\n",
    "\n",
    "saver = tf.train.Saver()\n",
    "with tf.Session() as sess:\n",
    "    saver.restore(sess, models_path + '/model.ckpt')\n",
    "    print(\"Model restored.\")\n",
    "    print(\"Test Accuracy:\", sess.run(accuracy, feed_dict={x: mnist.test.images, y_: mnist.test.labels}))\n",
    "    with open(models_path + '/history.pickle', \"rb\") as f:\n",
    "        train_cost_history, validation_cost_history, validation_accuracy_history = pickle.load(f)\n",
    "        "
   ]
  },
  {
   "cell_type": "code",
   "execution_count": 4,
   "metadata": {
    "collapsed": false
   },
   "outputs": [
    {
     "data": {
      "text/plain": [
       "<matplotlib.axes._subplots.AxesSubplot at 0x1224ba518>"
      ]
     },
     "execution_count": 4,
     "metadata": {},
     "output_type": "execute_result"
    },
    {
     "data": {
      "image/png": "[encoded data removed]",
      "text/plain": [
       "<matplotlib.figure.Figure at 0x120a7f5f8>"
      ]
     },
     "metadata": {},
     "output_type": "display_data"
    }
   ],
   "source": [
    "## Plot the learning curves\n",
    "\n",
    "%matplotlib inline\n",
    "import matplotlib.pyplot as plt\n",
    "import matplotlib.gridspec as gridspec\n",
    "\n",
    "fig = plt.figure() \n",
    "# create figure window\n",
    "gs = gridspec.GridSpec(2, 1)\n",
    "# Creates grid 'gs' of 2 rows and 1 columns \n",
    "ax = plt.subplot(gs[0, 0])\n",
    "# Adds subplot 'ax' in grid 'gs' at position [0,0]\n",
    "ax.set_ylabel('Cost') \n",
    "ax.set_xlabel('Iterations') \n",
    "ax.plot(train_cost_history, 'b-')\n",
    "ax.plot(validation_cost_history, 'r-')\n",
    "fig.add_subplot(ax) \n",
    "\n",
    "bx = plt.subplot(gs[1, 0])\n",
    "bx.set_ylabel('Accuracy') \n",
    "bx.plot(validation_accuracy_history, 'g-')\n",
    "fig.add_subplot(bx)"
   ]
  },
  {
   "cell_type": "code",
   "execution_count": 5,
   "metadata": {
    "collapsed": false,
    "scrolled": true
   },
   "outputs": [
    {
     "data": {
      "text/plain": [
       "<matplotlib.text.Text at 0x122652128>"
      ]
     },
     "execution_count": 5,
     "metadata": {},
     "output_type": "execute_result"
    },
    {
     "data": {
      "image/png": "[encoded data removed]",
      "text/plain": [
       "<matplotlib.figure.Figure at 0x12239df60>"
      ]
     },
     "metadata": {},
     "output_type": "display_data"
    },
    {
     "data": {
      "image/png": "[encoded data removed]",
      "text/plain": [
       "<matplotlib.figure.Figure at 0x122641da0>"
      ]
     },
     "metadata": {},
     "output_type": "display_data"
    }
   ],
   "source": [
    "## Plot the learning curves\n",
    "\n",
    "%matplotlib inline\n",
    "import matplotlib.pyplot as plt\n",
    "import pylab\n",
    "\n",
    "plt.figure(1)\n",
    "plt.plot(train_cost_history,'b-')\n",
    "plt.plot(validation_cost_history, 'r-')\n",
    "plt.ylabel('Cost')\n",
    "plt.xlabel('Iterations')\n",
    "pylab.ylim([0,1])\n",
    "\n",
    "plt.figure(2)\n",
    "plt.plot(validation_accuracy_history, 'g-')\n",
    "plt.ylabel('Accuracy')\n",
    "plt.xlabel('Iterations')"
   ]
  },
  {
   "cell_type": "code",
   "execution_count": null,
   "metadata": {
    "collapsed": true
   },
   "outputs": [],
   "source": []
  }
 ],
 "metadata": {
  "kernelspec": {
   "display_name": "Python 3",
   "language": "python",
   "name": "python3"
  },
  "language_info": {
   "codemirror_mode": {
    "name": "ipython",
    "version": 3
   },
   "file_extension": ".py",
   "mimetype": "text/x-python",
   "name": "python",
   "nbconvert_exporter": "python",
   "pygments_lexer": "ipython3",
   "version": "3.5.2"
  }
 },
 "nbformat": 4,
 "nbformat_minor": 0
}
