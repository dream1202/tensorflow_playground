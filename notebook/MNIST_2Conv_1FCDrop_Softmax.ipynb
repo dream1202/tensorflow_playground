{
 "cells": [
  {
   "cell_type": "code",
   "execution_count": 7,
   "metadata": {
    "collapsed": false
   },
   "outputs": [
    {
     "name": "stdout",
     "output_type": "stream",
     "text": [
      "Extracting MNIST_data/train-images-idx3-ubyte.gz\n",
      "Extracting MNIST_data/train-labels-idx1-ubyte.gz\n",
      "Extracting MNIST_data/t10k-images-idx3-ubyte.gz\n",
      "Extracting MNIST_data/t10k-labels-idx1-ubyte.gz\n"
     ]
    }
   ],
   "source": [
    "import tensorflow as tf\n",
    "import numpy as np\n",
    "import math\n",
    "from tqdm import tqdm\n",
    "import pickle\n",
    "\n",
    "# Import MINST data\n",
    "from tensorflow.examples.tutorials.mnist import input_data\n",
    "mnist = input_data.read_data_sets('MNIST_data', one_hot=True)"
   ]
  },
  {
   "cell_type": "code",
   "execution_count": 8,
   "metadata": {
    "collapsed": false
   },
   "outputs": [],
   "source": [
    "## Build Model\n",
    "\n",
    "models_path = '/home/Winston/tensorflow_models/MNIST_2Conv_1FCDrop'\n",
    "\n",
    "# Parameters\n",
    "learning_rate = 0.01\n",
    "training_epochs = 5\n",
    "batch_size = 10\n",
    "display_step = 1\n",
    "log_step = 100\n",
    "\n",
    "# Network Parameters\n",
    "n_input_xs = 28\n",
    "n_input_ys = 28\n",
    "n_input = n_input_xs * n_input_ys  # MNIST data input (img shape: 28*28)\n",
    "n_output = 10  # MNIST total classes (0-9 digits)\n",
    "n_fc_1 = 1024  # 1st fully-connected layer number of features\n",
    "patch_sz = 5   # convolution patch size 5x5 \n",
    "n_conv_1 = 32  # convolution layer1 output channels\n",
    "n_conv_2 = 64  # convolution layer2 output channels\n",
    "\n",
    "# Helper functions\n",
    "def weight_variable(shape):\n",
    "    initial = tf.truncated_normal(shape, stddev=0.1)\n",
    "    return tf.Variable(initial)\n",
    "\n",
    "def bias_variable(shape):\n",
    "    initial = tf.constant(0.1, shape=shape)\n",
    "    return tf.Variable(initial)\n",
    "\n",
    "def conv2d(x, W):\n",
    "    return tf.nn.conv2d(x, W, strides=[1, 1, 1, 1], padding='SAME')\n",
    "\n",
    "def max_pool_2x2(x):\n",
    "    return tf.nn.max_pool(x, ksize=[1, 2, 2, 1],\n",
    "                          strides=[1, 2, 2, 1], padding='SAME')\n",
    "\n",
    "def nn_layer(input_tensor, input_dim, output_dim, layer_name, act=tf.nn.relu):\n",
    "    # Adding a name scope ensures logical grouping of the layers in the graph.\n",
    "    with tf.name_scope(layer_name):\n",
    "        with tf.name_scope('weights'):\n",
    "            weights = weight_variable([input_dim, output_dim]) \n",
    "        with tf.name_scope('biases'):\n",
    "            biases = bias_variable([output_dim])\n",
    "        with tf.name_scope('Wx_plus_b'):\n",
    "            preactivate = tf.matmul(input_tensor, weights) + biases\n",
    "            \n",
    "        activations = act(preactivate, 'activation') if act != None else preactivate\n",
    "        return activations\n",
    "\n",
    "def conv_layer(input_tensor, in_channel, out_channel, layer_name, act=tf.nn.relu):\n",
    "    # Adding a name scope ensures logical grouping of the layers in the graph.\n",
    "    with tf.name_scope(layer_name):\n",
    "        with tf.name_scope('weights'):\n",
    "            weights = weight_variable([patch_sz, patch_sz, in_channel, out_channel]) \n",
    "        with tf.name_scope('biases'):\n",
    "            biases = bias_variable([out_channel])\n",
    "        with tf.name_scope('Wx_plus_b'):\n",
    "            preactivate = conv2d(input_tensor, weights) + biases\n",
    "            conv_activations = act(preactivate, 'activation')\n",
    "        \n",
    "        maxpool_activations = max_pool_2x2(conv_activations)\n",
    "        return maxpool_activations\n",
    "\n",
    "# TF Graph Input, Output and Dropout placeholders\n",
    "x = tf.placeholder(tf.float32, [None, n_input_xs * n_input_ys], name='InputData')\n",
    "y_ = tf.placeholder(tf.float32, [None, n_output], name='LabelData')\n",
    "keep_prob = tf.placeholder(tf.float32)    \n",
    "\n",
    "def build_model(input_tensor):\n",
    "    # 1st Convolutional Layer (5x5 patch size, 1 input channel, 32 output channels, 2x2 maxpooling)\n",
    "    x_image = tf.reshape(input_tensor, [-1, n_input_xs, n_input_ys, 1])    \n",
    "    xs = n_input_xs // 2\n",
    "    ys = n_input_ys // 2\n",
    "    layer_1 = conv_layer(x_image, 1, n_conv_1, 'layer1') # outputs: n_conv_1 * xs * ys\n",
    "    \n",
    "    # 2nd Convolutional Layer (5x5 patch size, 32 input channel, 64 output channels, 2x2 maxpooling)\n",
    "    xs = xs // 2\n",
    "    ys = ys // 2\n",
    "    layer_2 = conv_layer(layer_1, n_conv_1, n_conv_2, 'layer2') # outputs: n_conv_1 * xs * ys\n",
    "    layer_2_flat = tf.reshape(layer_2, [-1, n_conv_2*xs*ys])\n",
    "    \n",
    "    # Full-Connected Layer with Dropout\n",
    "    layer_3 = nn_layer(layer_2_flat, n_conv_2*xs*ys, n_fc_1, 'layer3')\n",
    "    layer_3_drop = tf.nn.dropout(layer_3, keep_prob)\n",
    "    \n",
    "    # Output Layer\n",
    "    layer_4 = nn_layer(layer_3_drop, n_fc_1, n_output, 'layer4', act=None)\n",
    "    return layer_4\n",
    "\n",
    "# Encapsulating all ops into scopes, making Tensorboard's Graph visualization more convenient\n",
    "with tf.name_scope('Model'):\n",
    "    # Build model\n",
    "    pred = build_model(x)\n",
    "\n",
    "with tf.name_scope('Loss'):\n",
    "    # Softmax Cross entropy (cost function)\n",
    "    loss = tf.reduce_mean(tf.nn.softmax_cross_entropy_with_logits(pred, y_))\n",
    "    # NOTE:\n",
    "    # Since out_layer has NOT invoked softmax, leverage TF optimized function \n",
    "    # \"softmax_cross_entropy_with_logits\" to calculate cost\n",
    "\n",
    "with tf.name_scope('SGD'):\n",
    "    # Gradient Descent\n",
    "    optimizer = tf.train.GradientDescentOptimizer(learning_rate)\n",
    "    train_step = optimizer.minimize(loss)    \n",
    "\n",
    "with tf.name_scope('Accuracy'):\n",
    "    # Accuracy\n",
    "    accuracy = tf.equal(tf.argmax(pred, 1), tf.argmax(y_, 1))\n",
    "    accuracy = tf.reduce_mean(tf.cast(accuracy, tf.float32))"
   ]
  },
  {
   "cell_type": "code",
   "execution_count": 9,
   "metadata": {
    "collapsed": false
   },
   "outputs": [
    {
     "name": "stderr",
     "output_type": "stream",
     "text": [
      " 20%|##        | 1/5 [12:57<51:50, 777.67s/it]"
     ]
    },
    {
     "name": "stdout",
     "output_type": "stream",
     "text": [
      "Epoch: 1, cost= 0.233920042\n"
     ]
    },
    {
     "name": "stderr",
     "output_type": "stream",
     "text": [
      "\r",
      " 40%|####      | 2/5 [25:56<38:53, 777.90s/it]"
     ]
    },
    {
     "name": "stdout",
     "output_type": "stream",
     "text": [
      "Epoch: 2, cost= 0.087791474\n"
     ]
    },
    {
     "name": "stderr",
     "output_type": "stream",
     "text": [
      "\r",
      " 60%|######    | 3/5 [38:53<25:55, 777.78s/it]"
     ]
    },
    {
     "name": "stdout",
     "output_type": "stream",
     "text": [
      "Epoch: 3, cost= 0.063230615\n"
     ]
    },
    {
     "name": "stderr",
     "output_type": "stream",
     "text": [
      "\r",
      " 80%|########  | 4/5 [51:50<12:57, 777.65s/it]"
     ]
    },
    {
     "name": "stdout",
     "output_type": "stream",
     "text": [
      "Epoch: 4, cost= 0.050185377\n"
     ]
    },
    {
     "name": "stderr",
     "output_type": "stream",
     "text": [
      "\r",
      "100%|##########| 5/5 [1:04:48<00:00, 777.60s/it]"
     ]
    },
    {
     "name": "stdout",
     "output_type": "stream",
     "text": [
      "Epoch: 5, cost= 0.042564172\n",
      "Optimization Finished!\n"
     ]
    },
    {
     "name": "stderr",
     "output_type": "stream",
     "text": [
      "\n"
     ]
    },
    {
     "name": "stdout",
     "output_type": "stream",
     "text": [
      "Model save in file: /tmp/tensorflow_models/MNIST_2Conv_1FCDrop/model.ckpt\n",
      "('Test Accuracy:', 0.99110001)\n"
     ]
    }
   ],
   "source": [
    "## Training\n",
    "\n",
    "# Initializing the variables\n",
    "init = tf.initialize_all_variables()\n",
    "\n",
    "saver = tf.train.Saver()\n",
    "\n",
    "train_cost_history, validation_cost_history, validation_accuracy_history = ([] for i in range(3))\n",
    "\n",
    "with tf.Session() as sess:\n",
    "    sess.run(init)\n",
    "    log_avg_costs = list()\n",
    "    # Training cycle\n",
    "    for epoch in tqdm(range(training_epochs), ascii=True): \n",
    "        epoch_avg_cost = 0.\n",
    "        total_batch = int(mnist.train.num_examples / batch_size)\n",
    "        for i in range(total_batch):\n",
    "            batch_xs, batch_ys = mnist.train.next_batch(batch_size)\n",
    "            train_cost, _ = sess.run([loss, train_step], feed_dict={x: batch_xs, y_: batch_ys, keep_prob: 0.5})\n",
    "            epoch_avg_cost += train_cost / total_batch\n",
    "            log_avg_costs.append(train_cost)\n",
    "            if (i+1) % log_step == 0:\n",
    "                train_cost_history.append(np.mean(log_avg_costs))\n",
    "                log_avg_costs[:] = []\n",
    "                val_cost, val_accuracy = sess.run([loss, accuracy], feed_dict={x: mnist.validation.images, y_: mnist.validation.labels, keep_prob: 1.0})\n",
    "                validation_cost_history.append(val_cost)\n",
    "                validation_accuracy_history.append(val_accuracy)\n",
    "        \n",
    "        # Display training cost & validation accuracy per epoch step\n",
    "        if (epoch+1) % display_step == 0:\n",
    "            print(\"Epoch: {}, cost= {:.9f}\".format(epoch+1, epoch_avg_cost))\n",
    "\n",
    "    print(\"Optimization Finished!\")  \n",
    "    save_path = saver.save(sess, models_path + '/model.ckpt')\n",
    "    print(\"Model save in file: %s\" % save_path)\n",
    "    with open(models_path + '/history.pickle', \"wb\") as f:\n",
    "        pickle.dump((train_cost_history, validation_cost_history, validation_accuracy_history), f)\n",
    "        \n",
    "    # Test model\n",
    "    # Calculate accuracy\n",
    "    print(\"Test Accuracy:\", sess.run(accuracy, feed_dict={x: mnist.test.images, y_: mnist.test.labels, keep_prob: 1.0}))"
   ]
  },
  {
   "cell_type": "code",
   "execution_count": 10,
   "metadata": {
    "collapsed": false
   },
   "outputs": [
    {
     "name": "stdout",
     "output_type": "stream",
     "text": [
      "Model restored.\n",
      "('Test Accuracy:', 0.99110001)\n"
     ]
    }
   ],
   "source": [
    "# Restore Model when needed\n",
    "train_cost_history, validation_cost_history, validation_accuracy_history = ([] for i in range(3))\n",
    "\n",
    "saver = tf.train.Saver()\n",
    "with tf.Session() as sess:\n",
    "    saver.restore(sess, models_path + '/model.ckpt')\n",
    "    print(\"Model restored.\")\n",
    "    print(\"Test Accuracy:\", sess.run(accuracy, feed_dict={x: mnist.test.images, y_: mnist.test.labels, keep_prob: 1.0}))\n",
    "    with open(models_path + '/history.pickle', \"rb\") as f:\n",
    "        train_cost_history, validation_cost_history, validation_accuracy_history = pickle.load(f)    "
   ]
  },
  {
   "cell_type": "code",
   "execution_count": 20,
   "metadata": {
    "collapsed": false
   },
   "outputs": [
    {
     "data": {
      "text/plain": [
       "<matplotlib.axes._subplots.AxesSubplot at 0x7f426c57d290>"
      ]
     },
     "execution_count": 20,
     "metadata": {},
     "output_type": "execute_result"
    },
    {
     "data": {
      "image/png": "[encoded data removed]",
      "text/plain": [
       "<matplotlib.figure.Figure at 0x7f426c69a0d0>"
      ]
     },
     "metadata": {},
     "output_type": "display_data"
    }
   ],
   "source": [
    "## Plot the learning curves\n",
    "\n",
    "%matplotlib inline\n",
    "import matplotlib.pyplot as plt\n",
    "import matplotlib.gridspec as gridspec\n",
    "\n",
    "fig = plt.figure() \n",
    "# create figure window\n",
    "gs = gridspec.GridSpec(2, 1)\n",
    "# Creates grid 'gs' of 2 rows and 1 columns \n",
    "ax = plt.subplot(gs[0, 0])\n",
    "# Adds subplot 'ax' in grid 'gs' at position [0,0]\n",
    "ax.set_ylabel('Cost') \n",
    "ax.set_xlabel('Iterations') \n",
    "ax.plot(train_cost_history, 'b-')\n",
    "ax.plot(validation_cost_history, 'r-')\n",
    "ax.set_ylim([0, 0.5])\n",
    "fig.add_subplot(ax) \n",
    "\n",
    "bx = plt.subplot(gs[1, 0])\n",
    "bx.set_ylabel('Accuracy') \n",
    "bx.plot(validation_accuracy_history, 'g-')\n",
    "fig.add_subplot(bx) \n"
   ]
  },
  {
   "cell_type": "code",
   "execution_count": 19,
   "metadata": {
    "collapsed": false
   },
   "outputs": [
    {
     "data": {
      "text/plain": [
       "<matplotlib.text.Text at 0x7f426c7e7fd0>"
      ]
     },
     "execution_count": 19,
     "metadata": {},
     "output_type": "execute_result"
    },
    {
     "data": {
      "image/png": "[encoded data removed]",
      "text/plain": [
       "<matplotlib.figure.Figure at 0x7f426c73a090>"
      ]
     },
     "metadata": {},
     "output_type": "display_data"
    },
    {
     "data": {
      "image/png": "[encoded data removed]",
      "text/plain": [
       "<matplotlib.figure.Figure at 0x7f426c797c10>"
      ]
     },
     "metadata": {},
     "output_type": "display_data"
    }
   ],
   "source": [
    "## Plot the learning curves\n",
    "\n",
    "%matplotlib inline\n",
    "import matplotlib.pyplot as plt\n",
    "import pylab\n",
    "\n",
    "plt.figure(1)\n",
    "plt.plot(train_cost_history,'b-')\n",
    "plt.plot(validation_cost_history, 'r-')\n",
    "plt.ylabel('Cost')\n",
    "plt.xlabel('Iterations')\n",
    "pylab.ylim([0,0.5])\n",
    "\n",
    "plt.figure(2)\n",
    "plt.plot(validation_accuracy_history, 'g-')\n",
    "plt.ylabel('Accuracy')\n",
    "plt.xlabel('Iterations')\n"
   ]
  },
  {
   "cell_type": "code",
   "execution_count": null,
   "metadata": {
    "collapsed": true
   },
   "outputs": [],
   "source": []
  }
 ],
 "metadata": {
  "kernelspec": {
   "display_name": "Python 2",
   "language": "python",
   "name": "python2"
  },
  "language_info": {
   "codemirror_mode": {
    "name": "ipython",
    "version": 2
   },
   "file_extension": ".py",
   "mimetype": "text/x-python",
   "name": "python",
   "nbconvert_exporter": "python",
   "pygments_lexer": "ipython2",
   "version": "2.7.12"
  }
 },
 "nbformat": 4,
 "nbformat_minor": 1
}
