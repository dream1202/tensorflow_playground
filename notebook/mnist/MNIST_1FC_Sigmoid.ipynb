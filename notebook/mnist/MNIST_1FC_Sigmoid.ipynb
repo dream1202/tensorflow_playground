{
 "cells": [
  {
   "cell_type": "code",
   "execution_count": 1,
   "metadata": {
    "collapsed": false
   },
   "outputs": [
    {
     "name": "stdout",
     "output_type": "stream",
     "text": [
      "Extracting MNIST_data/train-images-idx3-ubyte.gz\n",
      "Extracting MNIST_data/train-labels-idx1-ubyte.gz\n",
      "Extracting MNIST_data/t10k-images-idx3-ubyte.gz\n",
      "Extracting MNIST_data/t10k-labels-idx1-ubyte.gz\n"
     ]
    }
   ],
   "source": [
    "import tensorflow as tf\n",
    "import numpy as np\n",
    "import math\n",
    "from tqdm import tqdm\n",
    "import pickle\n",
    "\n",
    "# Import MINST data\n",
    "from tensorflow.examples.tutorials.mnist import input_data\n",
    "mnist = input_data.read_data_sets('MNIST_data', one_hot=True)\n",
    "\n",
    "models_path = '/tmp/tensorflow_models/MNIST_1FC_Sigmoid'\n",
    "\n",
    "# Parameters\n",
    "learning_rate = 0.1\n",
    "training_epochs = 20\n",
    "batch_size = 10\n",
    "display_step = 1\n",
    "log_step = 100\n",
    "\n",
    "# Network Parameters\n",
    "n_input = 784  # MNIST data input (img shape: 28*28)\n",
    "n_output = 10 # MNIST total classes (0-9 digits)\n",
    "n_hidden_1 = 100 # 1st layer number of features\n",
    "\n",
    "# TF Graph Input\n",
    "# mnist data image of shape 28*28=784\n",
    "x = tf.placeholder(tf.float32, [None, 784], name='InputData')\n",
    "# 0-9 digits recognition => 10 classes\n",
    "y_ = tf.placeholder(tf.float32, [None, 10], name='LabelData')\n",
    "\n",
    "# Helper functions\n",
    "def weight_variable(shape):\n",
    "    initial = tf.truncated_normal(shape, stddev=0.1)\n",
    "    return tf.Variable(initial)\n",
    "\n",
    "def bias_variable(shape):\n",
    "    initial = tf.constant(0.1, shape=shape)\n",
    "    return tf.Variable(initial)\n",
    "\n",
    "# Store layers weight & bias\n",
    "weights = {\n",
    "    'W1': weight_variable([n_input, n_hidden_1]),\n",
    "    'W2': weight_variable([n_hidden_1, n_output])\n",
    "}\n",
    "biases = {\n",
    "    'b1': bias_variable([n_hidden_1]),\n",
    "    'b2': bias_variable([n_output])    \n",
    "}\n",
    "\n",
    "\n",
    "# Create model\n",
    "def build_model(x, weights, biases):\n",
    "    # Hidden layer with ReLU activation\n",
    "    layer_1 = tf.add(tf.matmul(x, weights['W1']), biases['b1'])\n",
    "    layer_1 = tf.nn.relu(layer_1)\n",
    "    # Output layer\n",
    "    out_layer = tf.add(tf.matmul(layer_1, weights['W2']), biases['b2'])\n",
    "    return out_layer\n",
    "\n",
    "\n",
    "# Encapsulating all ops into scopes, making Tensorboard's Graph visualization more convenient\n",
    "with tf.name_scope('Model'):\n",
    "    # Build model\n",
    "    pred = build_model(x, weights, biases)\n",
    "\n",
    "with tf.name_scope('Loss'):\n",
    "    # Sigmoid cross entropy (cost function)\n",
    "    loss = tf.reduce_mean(tf.nn.sigmoid_cross_entropy_with_logits(pred, y_))\n",
    "    # NOTE:\n",
    "    # Since out_layer has NOT invoked sigmoid, leverage TF optimized function \n",
    "    # \"sigmoid_cross_entropy_with_logits\" to calculate cost\n",
    "\n",
    "with tf.name_scope('SGD'):\n",
    "    # Gradient Descent\n",
    "    optimizer = tf.train.GradientDescentOptimizer(learning_rate)\n",
    "    train_step = optimizer.minimize(loss)    \n",
    "    \n",
    "with tf.name_scope('Accuracy'):\n",
    "    # Accuracy\n",
    "    accuracy = tf.equal(tf.argmax(pred, 1), tf.argmax(y_, 1))\n",
    "    accuracy = tf.reduce_mean(tf.cast(accuracy, tf.float32))\n"
   ]
  },
  {
   "cell_type": "code",
   "execution_count": 2,
   "metadata": {
    "collapsed": false,
    "scrolled": true
   },
   "outputs": [
    {
     "name": "stderr",
     "output_type": "stream",
     "text": [
      "  5%|5         | 1/20 [00:13<04:17, 13.54s/it]"
     ]
    },
    {
     "name": "stdout",
     "output_type": "stream",
     "text": [
      "Epoch: 1, cost= 0.093760206\n"
     ]
    },
    {
     "name": "stderr",
     "output_type": "stream",
     "text": [
      "\r",
      " 10%|#         | 2/20 [00:28<04:11, 14.00s/it]"
     ]
    },
    {
     "name": "stdout",
     "output_type": "stream",
     "text": [
      "Epoch: 2, cost= 0.052926519\n"
     ]
    },
    {
     "name": "stderr",
     "output_type": "stream",
     "text": [
      "\r",
      " 15%|#5        | 3/20 [00:43<04:01, 14.22s/it]"
     ]
    },
    {
     "name": "stdout",
     "output_type": "stream",
     "text": [
      "Epoch: 3, cost= 0.042415062\n"
     ]
    },
    {
     "name": "stderr",
     "output_type": "stream",
     "text": [
      "\r",
      " 20%|##        | 4/20 [00:57<03:46, 14.14s/it]"
     ]
    },
    {
     "name": "stdout",
     "output_type": "stream",
     "text": [
      "Epoch: 4, cost= 0.035887296\n"
     ]
    },
    {
     "name": "stderr",
     "output_type": "stream",
     "text": [
      "\r",
      " 25%|##5       | 5/20 [01:11<03:32, 14.19s/it]"
     ]
    },
    {
     "name": "stdout",
     "output_type": "stream",
     "text": [
      "Epoch: 5, cost= 0.031320703\n"
     ]
    },
    {
     "name": "stderr",
     "output_type": "stream",
     "text": [
      "\r",
      " 30%|###       | 6/20 [01:25<03:19, 14.22s/it]"
     ]
    },
    {
     "name": "stdout",
     "output_type": "stream",
     "text": [
      "Epoch: 6, cost= 0.028019556\n"
     ]
    },
    {
     "name": "stderr",
     "output_type": "stream",
     "text": [
      "\r",
      " 35%|###5      | 7/20 [01:39<03:02, 14.04s/it]"
     ]
    },
    {
     "name": "stdout",
     "output_type": "stream",
     "text": [
      "Epoch: 7, cost= 0.025411549\n"
     ]
    },
    {
     "name": "stderr",
     "output_type": "stream",
     "text": [
      "\r",
      " 40%|####      | 8/20 [01:53<02:47, 13.94s/it]"
     ]
    },
    {
     "name": "stdout",
     "output_type": "stream",
     "text": [
      "Epoch: 8, cost= 0.023354077\n"
     ]
    },
    {
     "name": "stderr",
     "output_type": "stream",
     "text": [
      "\r",
      " 45%|####5     | 9/20 [02:06<02:31, 13.79s/it]"
     ]
    },
    {
     "name": "stdout",
     "output_type": "stream",
     "text": [
      "Epoch: 9, cost= 0.021614624\n"
     ]
    },
    {
     "name": "stderr",
     "output_type": "stream",
     "text": [
      "\r",
      " 50%|#####     | 10/20 [02:20<02:17, 13.74s/it]"
     ]
    },
    {
     "name": "stdout",
     "output_type": "stream",
     "text": [
      "Epoch: 10, cost= 0.020178624\n"
     ]
    },
    {
     "name": "stderr",
     "output_type": "stream",
     "text": [
      "\r",
      " 55%|#####5    | 11/20 [02:34<02:03, 13.76s/it]"
     ]
    },
    {
     "name": "stdout",
     "output_type": "stream",
     "text": [
      "Epoch: 11, cost= 0.018965020\n"
     ]
    },
    {
     "name": "stderr",
     "output_type": "stream",
     "text": [
      "\r",
      " 60%|######    | 12/20 [02:47<01:49, 13.73s/it]"
     ]
    },
    {
     "name": "stdout",
     "output_type": "stream",
     "text": [
      "Epoch: 12, cost= 0.017876882\n"
     ]
    },
    {
     "name": "stderr",
     "output_type": "stream",
     "text": [
      "\r",
      " 65%|######5   | 13/20 [03:01<01:35, 13.64s/it]"
     ]
    },
    {
     "name": "stdout",
     "output_type": "stream",
     "text": [
      "Epoch: 13, cost= 0.016899573\n"
     ]
    },
    {
     "name": "stderr",
     "output_type": "stream",
     "text": [
      "\r",
      " 70%|#######   | 14/20 [03:14<01:21, 13.51s/it]"
     ]
    },
    {
     "name": "stdout",
     "output_type": "stream",
     "text": [
      "Epoch: 14, cost= 0.015980202\n"
     ]
    },
    {
     "name": "stderr",
     "output_type": "stream",
     "text": [
      "\r",
      " 75%|#######5  | 15/20 [03:27<01:07, 13.43s/it]"
     ]
    },
    {
     "name": "stdout",
     "output_type": "stream",
     "text": [
      "Epoch: 15, cost= 0.015210258\n"
     ]
    },
    {
     "name": "stderr",
     "output_type": "stream",
     "text": [
      "\r",
      " 80%|########  | 16/20 [03:41<00:53, 13.41s/it]"
     ]
    },
    {
     "name": "stdout",
     "output_type": "stream",
     "text": [
      "Epoch: 16, cost= 0.014482727\n"
     ]
    },
    {
     "name": "stderr",
     "output_type": "stream",
     "text": [
      "\r",
      " 85%|########5 | 17/20 [03:54<00:40, 13.42s/it]"
     ]
    },
    {
     "name": "stdout",
     "output_type": "stream",
     "text": [
      "Epoch: 17, cost= 0.013829442\n"
     ]
    },
    {
     "name": "stderr",
     "output_type": "stream",
     "text": [
      "\r",
      " 90%|######### | 18/20 [04:07<00:26, 13.39s/it]"
     ]
    },
    {
     "name": "stdout",
     "output_type": "stream",
     "text": [
      "Epoch: 18, cost= 0.013222701\n"
     ]
    },
    {
     "name": "stderr",
     "output_type": "stream",
     "text": [
      "\r",
      " 95%|#########5| 19/20 [04:22<00:13, 13.75s/it]"
     ]
    },
    {
     "name": "stdout",
     "output_type": "stream",
     "text": [
      "Epoch: 19, cost= 0.012696945\n"
     ]
    },
    {
     "name": "stderr",
     "output_type": "stream",
     "text": [
      "\r",
      "100%|##########| 20/20 [04:39<00:00, 14.74s/it]"
     ]
    },
    {
     "name": "stdout",
     "output_type": "stream",
     "text": [
      "Epoch: 20, cost= 0.012194220\n",
      "Optimization Finished!\n"
     ]
    },
    {
     "name": "stderr",
     "output_type": "stream",
     "text": [
      "\n"
     ]
    },
    {
     "name": "stdout",
     "output_type": "stream",
     "text": [
      "Model save in file: /tmp/tensorflow_models/MNIST_1FC_Sigmoid/model.ckpt\n",
      "Test Accuracy: 0.9769\n"
     ]
    }
   ],
   "source": [
    "## Training\n",
    "\n",
    "# Initializing the variables\n",
    "init = tf.initialize_all_variables()\n",
    "\n",
    "saver = tf.train.Saver()\n",
    "\n",
    "train_cost_history, validation_cost_history, validation_accuracy_history = ([] for i in range(3))\n",
    "\n",
    "with tf.Session() as sess:\n",
    "    sess.run(init)\n",
    "    log_avg_costs = list()\n",
    "    # Training cycle\n",
    "    for epoch in tqdm(range(training_epochs), ascii=True): \n",
    "        epoch_avg_cost = 0.\n",
    "        total_batch = int(mnist.train.num_examples / batch_size)\n",
    "        for i in range(total_batch):\n",
    "            batch_xs, batch_ys = mnist.train.next_batch(batch_size)\n",
    "            train_cost, _ = sess.run([loss, train_step], feed_dict={x: batch_xs, y_: batch_ys})\n",
    "            epoch_avg_cost += train_cost / total_batch\n",
    "            log_avg_costs.append(train_cost)\n",
    "            if (i+1) % log_step == 0:\n",
    "                train_cost_history.append(np.mean(log_avg_costs))\n",
    "                log_avg_costs[:] = []\n",
    "                val_cost, val_accuracy = sess.run([loss, accuracy], feed_dict={x: mnist.validation.images, y_: mnist.validation.labels})\n",
    "                validation_cost_history.append(val_cost)\n",
    "                validation_accuracy_history.append(val_accuracy)\n",
    "        \n",
    "        # Display training cost & validation accuracy per epoch step\n",
    "        if (epoch+1) % display_step == 0:\n",
    "            print(\"Epoch: {}, cost= {:.9f}\".format(epoch+1, epoch_avg_cost))\n",
    "\n",
    "    print(\"Optimization Finished!\")  \n",
    "    save_path = saver.save(sess, models_path + '/model.ckpt')\n",
    "    print(\"Model save in file: %s\" % save_path)\n",
    "    with open(models_path + '/history.pickle', \"wb\") as f:\n",
    "        pickle.dump((train_cost_history, validation_cost_history, validation_accuracy_history), f)\n",
    "        \n",
    "    # Test model\n",
    "    # Calculate accuracy\n",
    "    print(\"Test Accuracy:\", sess.run(accuracy, feed_dict={x: mnist.test.images, y_: mnist.test.labels}))"
   ]
  },
  {
   "cell_type": "code",
   "execution_count": 3,
   "metadata": {
    "collapsed": false
   },
   "outputs": [
    {
     "name": "stdout",
     "output_type": "stream",
     "text": [
      "Model restored.\n",
      "Test Accuracy: 0.9769\n"
     ]
    }
   ],
   "source": [
    "# Restore Model when needed\n",
    "train_cost_history, validation_cost_history, validation_accuracy_history = ([] for i in range(3))\n",
    "\n",
    "saver = tf.train.Saver()\n",
    "with tf.Session() as sess:\n",
    "    saver.restore(sess, models_path + '/model.ckpt')\n",
    "    print(\"Model restored.\")\n",
    "    print(\"Test Accuracy:\", sess.run(accuracy, feed_dict={x: mnist.test.images, y_: mnist.test.labels}))\n",
    "    with open(models_path + '/history.pickle', \"rb\") as f:\n",
    "        train_cost_history, validation_cost_history, validation_accuracy_history = pickle.load(f)    "
   ]
  },
  {
   "cell_type": "code",
   "execution_count": 4,
   "metadata": {
    "collapsed": false
   },
   "outputs": [
    {
     "data": {
      "text/plain": [
       "<matplotlib.axes._subplots.AxesSubplot at 0x11bb2e198>"
      ]
     },
     "execution_count": 4,
     "metadata": {},
     "output_type": "execute_result"
    },
    {
     "data": {
      "image/png": "[encoded data removed]",
      "text/plain": [
       "<matplotlib.figure.Figure at 0x10b476c18>"
      ]
     },
     "metadata": {},
     "output_type": "display_data"
    }
   ],
   "source": [
    "## Plot the learning curves\n",
    "\n",
    "%matplotlib inline\n",
    "import matplotlib.pyplot as plt\n",
    "import matplotlib.gridspec as gridspec\n",
    "\n",
    "fig = plt.figure() \n",
    "# create figure window\n",
    "gs = gridspec.GridSpec(2, 1)\n",
    "# Creates grid 'gs' of 2 rows and 1 columns \n",
    "ax = plt.subplot(gs[0, 0])\n",
    "# Adds subplot 'ax' in grid 'gs' at position [0,0]\n",
    "ax.set_ylabel('Cost') \n",
    "ax.set_xlabel('Iterations') \n",
    "ax.plot(train_cost_history, 'b-')\n",
    "ax.plot(validation_cost_history, 'r-')\n",
    "fig.add_subplot(ax) \n",
    "\n",
    "bx = plt.subplot(gs[1, 0])\n",
    "bx.set_ylabel('Accuracy') \n",
    "bx.plot(validation_accuracy_history, 'g-')\n",
    "fig.add_subplot(bx)"
   ]
  },
  {
   "cell_type": "code",
   "execution_count": 7,
   "metadata": {
    "collapsed": false
   },
   "outputs": [
    {
     "data": {
      "text/plain": [
       "<matplotlib.text.Text at 0x11be837f0>"
      ]
     },
     "execution_count": 7,
     "metadata": {},
     "output_type": "execute_result"
    },
    {
     "data": {
      "image/png": "[encoded data removed]",
      "text/plain": [
       "<matplotlib.figure.Figure at 0x11bc939e8>"
      ]
     },
     "metadata": {},
     "output_type": "display_data"
    },
    {
     "data": {
      "image/png": "[encoded data removed]",
      "text/plain": [
       "<matplotlib.figure.Figure at 0x11bbd3a20>"
      ]
     },
     "metadata": {},
     "output_type": "display_data"
    }
   ],
   "source": [
    "## Plot the learning curves\n",
    "\n",
    "%matplotlib inline\n",
    "import matplotlib.pyplot as plt\n",
    "import pylab\n",
    "\n",
    "plt.figure(1)\n",
    "plt.plot(train_cost_history,'b-')\n",
    "plt.plot(validation_cost_history, 'r-')\n",
    "plt.ylabel('Cost')\n",
    "plt.xlabel('Iterations')\n",
    "pylab.ylim([0, 0.3])\n",
    "\n",
    "plt.figure(2)\n",
    "plt.plot(validation_accuracy_history, 'g-')\n",
    "plt.ylabel('Accuracy')\n",
    "plt.xlabel('Iterations')"
   ]
  },
  {
   "cell_type": "code",
   "execution_count": null,
   "metadata": {
    "collapsed": true
   },
   "outputs": [],
   "source": []
  }
 ],
 "metadata": {
  "kernelspec": {
   "display_name": "Python 3",
   "language": "python",
   "name": "python3"
  },
  "language_info": {
   "codemirror_mode": {
    "name": "ipython",
    "version": 3
   },
   "file_extension": ".py",
   "mimetype": "text/x-python",
   "name": "python",
   "nbconvert_exporter": "python",
   "pygments_lexer": "ipython3",
   "version": "3.5.2"
  }
 },
 "nbformat": 4,
 "nbformat_minor": 0
}
